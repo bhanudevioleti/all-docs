{
 "cells": [
  {
   "cell_type": "markdown",
   "id": "1c18ffc4-7e30-48ce-9d01-b76d59e7ec26",
   "metadata": {},
   "source": [
    "## session 1 - AWS Core concepts \n",
    "\n",
    "## session 2 - AWS VPC and Subnets (Network level)\n",
    "\n",
    "## Session 3 - AWS VPC and Subnets (Network level)\n",
    "\n",
    "## Session 4 - AWS EC2 with Docker.\n",
    "\n",
    "## Session 5- AWS EKS Basics and Componets\n",
    "\n",
    "## Session 6- AWS EKS Basics and Componets\n",
    "\n",
    "## Session 6 - Terraform scripts Basics.\n",
    "\n",
    "## Session 7- AWS EKS Basics and Componets Practice Session.\n",
    "\n",
    "## Session 8 - Recap on EKS and Practice session splunk and requirements.\n",
    "\n",
    "## Session 9 - Deploying the application using Jenkins From github to eks.\n",
    "\n",
    "## Session 10 - Example of Lamda And Glue services.\n",
    "\n",
    "## Session 11 - ELS Stack with Some mongo DB\n"
   ]
  },
  {
   "cell_type": "code",
   "execution_count": null,
   "id": "49667229-1c4f-4eaf-a395-5688443ae893",
   "metadata": {},
   "outputs": [],
   "source": []
  },
  {
   "cell_type": "code",
   "execution_count": null,
   "id": "98bc886d-ce0a-4f5c-a309-b39cb6c9d043",
   "metadata": {},
   "outputs": [],
   "source": []
  }
 ],
 "metadata": {
  "kernelspec": {
   "display_name": "Python 3 (ipykernel)",
   "language": "python",
   "name": "python3"
  },
  "language_info": {
   "codemirror_mode": {
    "name": "ipython",
    "version": 3
   },
   "file_extension": ".py",
   "mimetype": "text/x-python",
   "name": "python",
   "nbconvert_exporter": "python",
   "pygments_lexer": "ipython3",
   "version": "3.12.3"
  }
 },
 "nbformat": 4,
 "nbformat_minor": 5
}
