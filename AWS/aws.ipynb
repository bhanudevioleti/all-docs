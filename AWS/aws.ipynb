{
 "cells": [
  {
   "cell_type": "markdown",
   "id": "2c7ba497-54c8-4bce-b7a2-7ae95872c48c",
   "metadata": {},
   "source": [
    "# AWS Core concerpts"
   ]
  },
  {
   "cell_type": "markdown",
   "id": "0beb8e1e-173f-4374-a45b-1b1c439a3cb2",
   "metadata": {},
   "source": [
    "AWS core services are the fundamental building blocks of Amazon Web Services that provide essential cloud computing capabilities. These services span across compute, storage, networking, databases, security, and more. Here are some key AWS core services:"
   ]
  },
  {
   "cell_type": "markdown",
   "id": "72ed221f-1aff-4f46-b65a-847c1a760bcc",
   "metadata": {},
   "source": [
    "## 1. Compute Services\n",
    "\n",
    "* <b>Amazon EC2 (Elastic Compute Cloud) </b>– Scalable virtual machines for running applications\n",
    "* AWS Lambda – Serverless computing to run code in response to events.\n",
    "* Amazon ECS (Elastic Container Service) – Managed container orchestration for Docker containers.\n",
    "* Amazon EKS (Elastic Kubernetes Service) – Managed Kubernetes service.\n",
    "* AWS Fargate – Serverless compute engine for containers.\n",
    "* AWS Batch – Batch computing for large-scale workloads.\n",
    "\n",
    "## 2. Storage Services\n",
    "* Amazon S3 (Simple Storage Service) – Object storage with high durability and scalability.\n",
    "* Amazon EBS (Elastic Block Store) – Persistent block storage for EC2 instances.\n",
    "* Amazon EFS (Elastic File System) – Scalable and managed file storage for Linux workloads.\n",
    "* AWS FSx – Fully managed file systems (Windows FSx, Lustre).\n",
    "* AWS Backup – Centralized backup automation.\n",
    "\n",
    "## 3. Networking & Content Delivery\n",
    "\n",
    "* Amazon VPC (Virtual Private Cloud) – Isolated cloud networks.\n",
    "* AWS Route 53 – Scalable domain name system (DNS) service.\n",
    "* Elastic Load Balancing (ELB) – Distributes incoming traffic across multiple targets.\n",
    "* Amazon CloudFront – Content delivery network (CDN) for low-latency content distribution.\n",
    "* AWS Direct Connect – Dedicated network connection to AWS.\n",
    "* AWS Global Accelerator – Improves performance for global applications.\n",
    "\n",
    "## 4. Database Services\n",
    "\n",
    "* Amazon RDS (Relational Database Service) – Managed databases (MySQL, PostgreSQL, MariaDB, Oracle, SQL Server).\n",
    "* Amazon DynamoDB – NoSQL database with single-digit millisecond latency.\n",
    "* Amazon Aurora – High-performance relational database (compatible with MySQL and PostgreSQL).\n",
    "* Amazon Redshift – Managed data warehouse for analytics.\n",
    "* Amazon ElastiCache – In-memory caching using Redis and Memcached.\n",
    "* Amazon Neptune – Managed graph database.\n",
    "\n",
    "## 5. Security, Identity, and Compliance\n",
    "\n",
    "* AWS IAM (Identity and Access Management) – Controls user permissions and access.\n",
    "* AWS Organizations – Manage multiple AWS accounts.\n",
    "* AWS KMS (Key Management Service) – Secure key management and encryption.\n",
    "* AWS WAF (Web Application Firewall) – Protects applications from common web threats.\n",
    "* AWS Shield – DDoS protection for applications.\n",
    "* Amazon Cognito – Authentication and user identity management.\n",
    "\n",
    "## 6. Management & Monitoring\n",
    "* Amazon CloudWatch – Monitoring and logging service.\n",
    "* AWS CloudTrail – Tracks user activity and API usage.\n",
    "* AWS Config – Monitors AWS resource configurations.\n",
    "* AWS Systems Manager – Automates operational tasks.\n",
    "* AWS Trusted Advisor – Provides recommendations for best practices.\n",
    "\n",
    "## 7. Developer & DevOps Tools\n",
    "\n",
    "* AWS CodeCommit – Managed Git-based repository.\n",
    "* AWS CodeBuild – Continuous integration (CI) service.\n",
    "* AWS CodeDeploy – Automated deployment service.\n",
    "* AWS CodePipeline – Continuous integration and delivery (CI/CD).\n",
    "* AWS CloudFormation – Infrastructure as Code (IaC) for resource provisioning.\n",
    "* AWS X-Ray – Application performance monitoring.\n",
    "\n",
    "## 8. Machine Learning & AI\n",
    "\n",
    "* Amazon SageMaker – Managed ML service for model building, training, and deployment.\n",
    "* AWS Rekognition – Image and video analysis.\n",
    "* Amazon Comprehend – NLP for text analysis.\n",
    "* AWS Lex – Conversational AI for chatbots.\n",
    "* AWS Polly – Text-to-speech service.\n",
    "\n",
    "## 9. Analytics & Big Data\n",
    "\n",
    "* Amazon Kinesis – Real-time data streaming.\n",
    "* AWS Glue – ETL (Extract, Transform, Load) service.\n",
    "* AWS Lake Formation – Data lake management.\n",
    "* Amazon EMR (Elastic MapReduce) – Managed big data processing.\n",
    "\n",
    "## 10. Internet of Things (IoT)\n",
    "\n",
    "* AWS IoT Core – Secure IoT device connection to the cloud.\n",
    "* AWS Greengrass – Edge computing for IoT devices."
   ]
  }
 ],
 "metadata": {
  "kernelspec": {
   "display_name": "Python 3 (ipykernel)",
   "language": "python",
   "name": "python3"
  },
  "language_info": {
   "codemirror_mode": {
    "name": "ipython",
    "version": 3
   },
   "file_extension": ".py",
   "mimetype": "text/x-python",
   "name": "python",
   "nbconvert_exporter": "python",
   "pygments_lexer": "ipython3",
   "version": "3.12.3"
  }
 },
 "nbformat": 4,
 "nbformat_minor": 5
}
