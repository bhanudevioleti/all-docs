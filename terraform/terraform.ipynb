{
 "cells": [
  {
   "cell_type": "markdown",
   "id": "da81815f-23bf-4d77-9de6-8da80b4a428e",
   "metadata": {},
   "source": [
    "## Steps to Execute terraform\n",
    "\n",
    "#### Install Terraform\n",
    "\n",
    "Please install the terraform from the following link\n",
    "\n",
    "https://developer.hashicorp.com/terraform/install\n",
    "\n",
    "In windoiw set the terraform path in System variable\n",
    "\n",
    "Click on windows button and system variable and set the path for terraform folder.\n",
    "\n",
    "Initialize Terraform in a working directory\n",
    "\n",
    "### terraform init\n",
    "\n",
    "Check the configuration files for syntax errors\n",
    "\n",
    "### terraform validate\n",
    "\n",
    "Preview the changes before applying\n",
    "\n",
    "### terraform plan\n",
    "\n",
    "Create or modify infrastructure\n",
    "\n",
    "### terraform apply\n",
    "\n",
    "Auto-approve without user confirmation\n",
    "\n",
    "### terraform apply -auto-approve\n",
    "\n",
    "Delete all managed infrastructure\n",
    "\n",
    "### terraform destroy\n",
    "\n",
    "View the current state file details\n",
    "\n",
    "### terraform show\n",
    "\n",
    "Check the current state of managed resources\n",
    "\n",
    "### terraform state list\n",
    "\n",
    "\n",
    "\n",
    "\n",
    "\n",
    "\n",
    "\n"
   ]
  },
  {
   "cell_type": "code",
   "execution_count": null,
   "id": "3bcd43e7-d3d8-4bec-8d85-ccc45b721688",
   "metadata": {},
   "outputs": [],
   "source": []
  }
 ],
 "metadata": {
  "kernelspec": {
   "display_name": "Python 3 (ipykernel)",
   "language": "python",
   "name": "python3"
  },
  "language_info": {
   "codemirror_mode": {
    "name": "ipython",
    "version": 3
   },
   "file_extension": ".py",
   "mimetype": "text/x-python",
   "name": "python",
   "nbconvert_exporter": "python",
   "pygments_lexer": "ipython3",
   "version": "3.12.3"
  }
 },
 "nbformat": 4,
 "nbformat_minor": 5
}
